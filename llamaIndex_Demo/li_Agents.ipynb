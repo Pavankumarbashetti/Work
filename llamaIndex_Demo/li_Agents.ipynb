{
 "cells": [
  {
   "cell_type": "markdown",
   "id": "6cfd5d38",
   "metadata": {},
   "source": [
    "Function- Agent"
   ]
  },
  {
   "cell_type": "code",
   "execution_count": 101,
   "id": "9a483530",
   "metadata": {},
   "outputs": [],
   "source": [
    "import os\n",
    "import asyncio\n",
    "from dotenv import load_dotenv\n",
    "# from llama_index.core.agent import FunctionAgent\n",
    "from llama_index.core.agent.workflow import FunctionAgent\n",
    "from llama_index.core.tools import FunctionTool\n",
    "from llama_index.llms.google_genai import GoogleGenAI"
   ]
  },
  {
   "cell_type": "markdown",
   "id": "4141277b",
   "metadata": {},
   "source": []
  },
  {
   "cell_type": "code",
   "execution_count": 102,
   "id": "f0f74c7b",
   "metadata": {},
   "outputs": [],
   "source": [
    "# Load the API key from .env\n",
    "load_dotenv()\n",
    "\n",
    "# Initialize Google Gemini LLM\n",
    "llm = GoogleGenAI(model=\"gemini-2.0-flash\")"
   ]
  },
  {
   "cell_type": "code",
   "execution_count": 103,
   "id": "8d214ddb",
   "metadata": {},
   "outputs": [],
   "source": [
    "# Define a tool\n",
    "def divide_numbers(a: float, b: float) -> float:\n",
    "    \"\"\"Divides a by b, returns the result.\"\"\"\n",
    "    if b == 0:\n",
    "        return \"Error: Division by zero\"\n",
    "    return a / b\n",
    "\n"
   ]
  },
  {
   "cell_type": "code",
   "execution_count": 104,
   "id": "cd104b0b",
   "metadata": {},
   "outputs": [],
   "source": [
    "\n",
    "\n",
    "# Create FunctionAgent directly (no from_tools here)\n",
    "function_agent = FunctionAgent(\n",
    "    tools=[divide_numbers],\n",
    "    llm=llm,\n",
    "    verbose=True,\n",
    "    system_prompt=\"You are a helpful assistant that can perform division when needed.\"\n",
    ")"
   ]
  },
  {
   "cell_type": "code",
   "execution_count": null,
   "id": "6d873d72",
   "metadata": {},
   "outputs": [],
   "source": []
  },
  {
   "cell_type": "code",
   "execution_count": 105,
   "id": "ce96dbc1",
   "metadata": {},
   "outputs": [
    {
     "name": "stdout",
     "output_type": "stream",
     "text": [
      "Running step init_run\n",
      "Step init_run produced event AgentInput\n",
      "Running step setup_agent\n",
      "Step setup_agent produced event AgentSetup\n",
      "Running step run_agent_step\n",
      "Step run_agent_step produced event AgentOutput\n",
      "Running step parse_agent_output\n",
      "Step parse_agent_output produced no event\n",
      "Running step call_tool\n",
      "Step call_tool produced event ToolCallResult\n",
      "Running step aggregate_tool_results\n",
      "Step aggregate_tool_results produced event AgentInput\n",
      "Running step setup_agent\n",
      "Step setup_agent produced event AgentSetup\n",
      "Running step run_agent_step\n",
      "Step run_agent_step produced event AgentOutput\n",
      "Running step parse_agent_output\n",
      "Step parse_agent_output produced event StopEvent\n",
      "FunctionAgent Response: 144 divided by 12 is 12.0.\n",
      "\n"
     ]
    }
   ],
   "source": [
    "\n",
    "\n",
    "# Async function to query the agent\n",
    "# async def main():\n",
    "response = await function_agent.run(\"What is 144 divided by 12?\")\n",
    "print(\"FunctionAgent Response:\", response)\n",
    "\n"
   ]
  },
  {
   "cell_type": "code",
   "execution_count": 106,
   "id": "7c842ee2",
   "metadata": {},
   "outputs": [
    {
     "name": "stdout",
     "output_type": "stream",
     "text": [
      "assistant: 144 divided by 12 is 12.0.\n",
      "\n"
     ]
    }
   ],
   "source": [
    "# Run and print only final response\n",
    "# response = await agent.run(\"What is 144 divided by 12?\")\n",
    "print(response.response)"
   ]
  },
  {
   "cell_type": "markdown",
   "id": "f4db7090",
   "metadata": {},
   "source": [
    "React-Agent"
   ]
  },
  {
   "cell_type": "code",
   "execution_count": 107,
   "id": "518e7952",
   "metadata": {},
   "outputs": [],
   "source": [
    "from llama_index.core.agent.workflow import ReActAgent"
   ]
  },
  {
   "cell_type": "code",
   "execution_count": 108,
   "id": "5c37ff6d",
   "metadata": {},
   "outputs": [
    {
     "name": "stdout",
     "output_type": "stream",
     "text": [
      "ReActAgent Response: assistant: 144 divided by 12 is 12.\n",
      "```\n"
     ]
    }
   ],
   "source": [
    "# Create ReActAgent\n",
    "react_agent = ReActAgent(\n",
    "    tools=[divide_numbers],\n",
    "    llm=llm,\n",
    "    verbose=False,  # Set False if you don’t want step-by-step logs\n",
    "    system_prompt=\"You are a helpful assistant that can perform division when needed.\"\n",
    ")\n",
    "\n",
    "\n",
    "response = await react_agent.run(\"What is 144 divided by 12?\")\n",
    "print(\"ReActAgent Response:\", response.response)\n",
    "\n"
   ]
  },
  {
   "cell_type": "code",
   "execution_count": 109,
   "id": "204c4108",
   "metadata": {},
   "outputs": [
    {
     "name": "stdout",
     "output_type": "stream",
     "text": [
      "ReActAgent Response: assistant: 144 divided by 12 is 12.\n",
      "```\n"
     ]
    }
   ],
   "source": [
    "response = await react_agent.run(\"What is 144 divided by 12?\")\n",
    "print(\"ReActAgent Response:\", response.response)"
   ]
  },
  {
   "cell_type": "markdown",
   "id": "95f28a9d",
   "metadata": {},
   "source": [
    "CodeAct Agent"
   ]
  },
  {
   "cell_type": "code",
   "execution_count": 110,
   "id": "d3e18dda",
   "metadata": {},
   "outputs": [],
   "source": [
    "import os\n",
    "import asyncio\n",
    "from dotenv import load_dotenv\n",
    "from llama_index.core.agent.workflow import CodeActAgent\n",
    "from llama_index.llms.google_genai import GoogleGenAI\n",
    "\n"
   ]
  },
  {
   "cell_type": "code",
   "execution_count": 112,
   "id": "76106f04",
   "metadata": {},
   "outputs": [],
   "source": [
    "# Load the API key from .env\n",
    "load_dotenv()\n",
    "\n",
    "# Initialize Google Gemini LLM\n",
    "llm = GoogleGenAI(model=\"gemini-2.0-flash\")"
   ]
  },
  {
   "cell_type": "code",
   "execution_count": 113,
   "id": "231df9c6",
   "metadata": {},
   "outputs": [],
   "source": [
    "# Define helper functions\n",
    "def add(a: int, b: int) -> int:\n",
    "    return a + b\n",
    "\n",
    "def subtract(a: int, b: int) -> int:\n",
    "    return a - b\n",
    "\n",
    "def multiply(a: int, b: int) -> int:\n",
    "    return a * b\n",
    "\n",
    "def divide(a: int, b: int) -> float:\n",
    "    return a / b"
   ]
  },
  {
   "cell_type": "code",
   "execution_count": null,
   "id": "e88c1866",
   "metadata": {},
   "outputs": [
    {
     "ename": "NameError",
     "evalue": "name 'CodeAgent' is not defined",
     "output_type": "error",
     "traceback": [
      "\u001b[31m---------------------------------------------------------------------------\u001b[39m",
      "\u001b[31mNameError\u001b[39m                                 Traceback (most recent call last)",
      "\u001b[36mCell\u001b[39m\u001b[36m \u001b[39m\u001b[32mIn[111]\u001b[39m\u001b[32m, line 6\u001b[39m\n\u001b[32m      3\u001b[39m llm = GoogleGenAI(model=\u001b[33m\"\u001b[39m\u001b[33mgemini-2.0-flash\u001b[39m\u001b[33m\"\u001b[39m)\n\u001b[32m      5\u001b[39m \u001b[38;5;66;03m# Give the agent the REPL tool\u001b[39;00m\n\u001b[32m----> \u001b[39m\u001b[32m6\u001b[39m code_agent = \u001b[43mCodeAgent\u001b[49m.from_tools(\n\u001b[32m      7\u001b[39m     tools=[PythonREPLTool()],\n\u001b[32m      8\u001b[39m     llm=llm,\n\u001b[32m      9\u001b[39m     verbose=\u001b[38;5;28;01mTrue\u001b[39;00m,\n\u001b[32m     10\u001b[39m     system_prompt=\u001b[33m\"\u001b[39m\u001b[33mYou are a helpful assistant that writes and executes Python code when needed.\u001b[39m\u001b[33m\"\u001b[39m\n\u001b[32m     11\u001b[39m )\n\u001b[32m     14\u001b[39m     \u001b[38;5;66;03m# Agent decides to use REPL\u001b[39;00m\n\u001b[32m     15\u001b[39m response = \u001b[38;5;28;01mawait\u001b[39;00m code_agent.run(\u001b[33m\"\u001b[39m\u001b[33mCalculate factorial of 6\u001b[39m\u001b[33m\"\u001b[39m)\n",
      "\u001b[31mNameError\u001b[39m: name 'CodeAgent' is not defined"
     ]
    }
   ],
   "source": []
  },
  {
   "cell_type": "code",
   "execution_count": null,
   "id": "645be9d8",
   "metadata": {},
   "outputs": [],
   "source": [
    "import os\n",
    "import asyncio\n",
    "from dotenv import load_dotenv\n",
    "\n",
    "from llama_index.core.agent.workflow import CodeActAgent\n",
    "from llama_index.llms.google_genai import GoogleGenAI\n",
    "from llama_index.core.tools import PythonREPLTool\n",
    "\n",
    "# Load your GEMINI API key from .env\n",
    "load_dotenv()\n",
    "\n",
    "# Initialize Gemini LLM\n",
    "llm = GoogleGenAI(model=\"gemini-2.0-flash\")\n",
    "\n",
    "# Create the CodeActAgent with Python REPL capability\n",
    "code_agent = CodeActAgent.from_tools(\n",
    "    tools=[PythonREPLTool()],\n",
    "    llm=llm,\n",
    "    verbose=True,  # Set False if you'd rather suppress logs\n",
    "    system_prompt=\"You are a helpful assistant that writes and executes Python code when needed.\"\n",
    ")\n",
    "\n",
    "# Async run\n",
    "async def main():\n",
    "    response = await code_agent.achat(\"What is 144 divided by 12?\")\n",
    "    print(\"CodeActAgent Response:\", response)\n",
    "\n",
    "asyncio.run(main())\n"
   ]
  }
 ],
 "metadata": {
  "kernelspec": {
   "display_name": "Python 3",
   "language": "python",
   "name": "python3"
  },
  "language_info": {
   "codemirror_mode": {
    "name": "ipython",
    "version": 3
   },
   "file_extension": ".py",
   "mimetype": "text/x-python",
   "name": "python",
   "nbconvert_exporter": "python",
   "pygments_lexer": "ipython3",
   "version": "3.12.11"
  }
 },
 "nbformat": 4,
 "nbformat_minor": 5
}
